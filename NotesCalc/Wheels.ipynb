{
 "cells": [
  {
   "cell_type": "markdown",
   "metadata": {},
   "source": [
    "# Calculation for wheel angular velocity and positioning"
   ]
  },
  {
   "cell_type": "code",
   "execution_count": 57,
   "metadata": {},
   "outputs": [],
   "source": [
    "import sympy as sp\n",
    "import math"
   ]
  },
  {
   "cell_type": "markdown",
   "metadata": {},
   "source": [
    "## Turning radius, angular velocity and tangential speed."
   ]
  },
  {
   "cell_type": "code",
   "execution_count": 58,
   "metadata": {},
   "outputs": [],
   "source": [
    "# Circumferences travelled by each wheel.\n",
    "c1, c2 = sp.symbols(\"C1 C2\")\n",
    "\n",
    "# Radius of turning (distance from each wheel to the center of rotation).\n",
    "r1, r2 = sp.symbols(\"r1 r2\")\n",
    "\n",
    "# The angle turned\n",
    "alpha = sp.symbols(\"alpha\")\n",
    "\n",
    "# Axle width\n",
    "axle_width = sp.symbols(\"a_w\")"
   ]
  },
  {
   "cell_type": "code",
   "execution_count": 59,
   "metadata": {},
   "outputs": [],
   "source": [
    "def circumference(alpha:sp.Symbol, radius:sp.Symbol) -> sp.Symbol:\n",
    "    \"\"\"Calculates the circumference of an arc.\n",
    "\n",
    "    Args:\n",
    "        alpha (sp.Symbol): The angle in radians.\n",
    "        radius (sp.Symbol): The radius.\n",
    "\n",
    "    Returns:\n",
    "        sp.Symbol: The circumference.\n",
    "    \"\"\"\n",
    "    return alpha / (2*sp.pi) * 2*sp.pi * radius"
   ]
  },
  {
   "cell_type": "code",
   "execution_count": 60,
   "metadata": {},
   "outputs": [],
   "source": [
    "c1_expr = circumference(alpha, r1)\n",
    "c2_expr = circumference(alpha, r2)"
   ]
  },
  {
   "cell_type": "code",
   "execution_count": 61,
   "metadata": {},
   "outputs": [],
   "source": [
    "axle_width_expr = r2 - r1"
   ]
  },
  {
   "cell_type": "code",
   "execution_count": 62,
   "metadata": {},
   "outputs": [
    {
     "data": {
      "text/plain": [
       "{alpha: -(C1 - C2)/a_w, r1: -C1*a_w/(C1 - C2), r2: -C2*a_w/(C1 - C2)}"
      ]
     },
     "execution_count": 62,
     "metadata": {},
     "output_type": "execute_result"
    }
   ],
   "source": [
    "res = sp.solve([c1_expr - c1, c2_expr - c2, axle_width_expr - axle_width], alpha, r1, r2, dict=True)[0]\n",
    "res"
   ]
  },
  {
   "cell_type": "code",
   "execution_count": 63,
   "metadata": {},
   "outputs": [
    {
     "data": {
      "text/latex": [
       "$\\displaystyle \\frac{a_{w} \\left(- C_{1} - C_{2}\\right)}{2 \\left(C_{1} - C_{2}\\right)}$"
      ],
      "text/plain": [
       "a_w*(-C1 - C2)/(2*(C1 - C2))"
      ]
     },
     "execution_count": 63,
     "metadata": {},
     "output_type": "execute_result"
    }
   ],
   "source": [
    "centre_radius = sp.simplify((res[r1] + res[r2]) / 2)\n",
    "centre_radius"
   ]
  },
  {
   "cell_type": "code",
   "execution_count": 64,
   "metadata": {},
   "outputs": [],
   "source": [
    "def angular_velocity(c1, c2, aw):\n",
    "    return (c2 - c1) / aw\n",
    "\n",
    "def centre_rad(c1, c2, aw):\n",
    "    return aw * (-c1 - c2) / (2*(c1 - c2))"
   ]
  },
  {
   "cell_type": "code",
   "execution_count": 65,
   "metadata": {},
   "outputs": [
    {
     "data": {
      "text/latex": [
       "$\\displaystyle \\frac{\\pi}{200}$"
      ],
      "text/plain": [
       "pi/200"
      ]
     },
     "execution_count": 65,
     "metadata": {},
     "output_type": "execute_result"
    }
   ],
   "source": [
    "angular_velocity(sp.pi, 2*sp.pi, 200)"
   ]
  },
  {
   "cell_type": "code",
   "execution_count": 66,
   "metadata": {},
   "outputs": [
    {
     "data": {
      "text/latex": [
       "$\\displaystyle 100$"
      ],
      "text/plain": [
       "100"
      ]
     },
     "execution_count": 66,
     "metadata": {},
     "output_type": "execute_result"
    }
   ],
   "source": [
    "centre_rad(0*sp.pi, 6*sp.pi, 200)"
   ]
  },
  {
   "cell_type": "markdown",
   "metadata": {},
   "source": [
    "## Forwards, sideways positioning and new relative heading"
   ]
  },
  {
   "cell_type": "code",
   "execution_count": 73,
   "metadata": {},
   "outputs": [],
   "source": [
    "def predict(angular_velocity, centre_radius, tangential_speed, timestep):\n",
    "    angle_change = angular_velocity * timestep\n",
    "    if angle_change != 0:\n",
    "        # Going around a corner.\n",
    "        forwards = centre_radius * math.sin(angle_change)\n",
    "        sideways = centre_radius - centre_radius * math.cos(angle_change)\n",
    "    else:\n",
    "        # Going straight forwards or backwards.\n",
    "        forwards = tangential_speed * timestep\n",
    "        sideways = 0\n",
    "\n",
    "    return forwards, sideways, angle_change"
   ]
  },
  {
   "cell_type": "code",
   "execution_count": 89,
   "metadata": {},
   "outputs": [
    {
     "data": {
      "text/plain": [
       "(-0.0, 0.0, 12.566370614359172)"
      ]
     },
     "execution_count": 89,
     "metadata": {},
     "output_type": "execute_result"
    }
   ],
   "source": [
    "predict(4*math.pi, 0, 0, 1)"
   ]
  },
  {
   "cell_type": "code",
   "execution_count": null,
   "metadata": {},
   "outputs": [],
   "source": []
  }
 ],
 "metadata": {
  "kernelspec": {
   "display_name": "Python 3",
   "language": "python",
   "name": "python3"
  },
  "language_info": {
   "codemirror_mode": {
    "name": "ipython",
    "version": 3
   },
   "file_extension": ".py",
   "mimetype": "text/x-python",
   "name": "python",
   "nbconvert_exporter": "python",
   "pygments_lexer": "ipython3",
   "version": "3.10.12"
  }
 },
 "nbformat": 4,
 "nbformat_minor": 2
}
