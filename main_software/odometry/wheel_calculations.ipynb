{
 "cells": [
  {
   "cell_type": "markdown",
   "metadata": {},
   "source": [
    "# Calculation for wheel angular velocity and positioning"
   ]
  },
  {
   "cell_type": "code",
   "execution_count": 11,
   "metadata": {},
   "outputs": [],
   "source": [
    "import sympy as sp\n",
    "import math\n",
    "sp.init_printing()"
   ]
  },
  {
   "cell_type": "markdown",
   "metadata": {},
   "source": [
    "## Turning radius, angular velocity and tangential speed."
   ]
  },
  {
   "cell_type": "code",
   "execution_count": 23,
   "metadata": {},
   "outputs": [],
   "source": [
    "# Circumferences travelled by each wheel.\n",
    "c1, c2 = sp.symbols(\"C1 C2\")\n",
    "\n",
    "# Radius of turning (distance from each wheel to the center of rotation).\n",
    "r1, r2 = sp.symbols(\"r1 r2\")\n",
    "\n",
    "# The angle turned\n",
    "alpha = sp.symbols(\"alpha\")\n",
    "\n",
    "# Axle width\n",
    "axle_width = sp.symbols(\"a_w\")\n",
    "\n",
    "# Linear speed\n",
    "s = sp.symbols(\"s\")"
   ]
  },
  {
   "cell_type": "code",
   "execution_count": 24,
   "metadata": {},
   "outputs": [],
   "source": [
    "def circumference(alpha:sp.Symbol, radius:sp.Symbol) -> sp.Symbol:\n",
    "    \"\"\"Calculates the circumference of an arc.\n",
    "\n",
    "    Args:\n",
    "        alpha (sp.Symbol): The angle in radians.\n",
    "        radius (sp.Symbol): The radius.\n",
    "\n",
    "    Returns:\n",
    "        sp.Symbol: The circumference.\n",
    "    \"\"\"\n",
    "    return alpha / (2*sp.pi) * 2*sp.pi * radius"
   ]
  },
  {
   "cell_type": "code",
   "execution_count": 25,
   "metadata": {},
   "outputs": [],
   "source": [
    "c1_expr = circumference(alpha, r1)\n",
    "c2_expr = circumference(alpha, r2)"
   ]
  },
  {
   "cell_type": "code",
   "execution_count": 26,
   "metadata": {},
   "outputs": [],
   "source": [
    "axle_width_expr = r2 - r1"
   ]
  },
  {
   "cell_type": "code",
   "execution_count": 27,
   "metadata": {},
   "outputs": [
    {
     "data": {
      "image/png": "[encoded data removed]",
      "text/latex": [
       "$\\displaystyle \\left\\{ \\alpha : - \\frac{C_{1} - C_{2}}{a_{w}}, \\  r_{1} : - \\frac{C_{1} a_{w}}{C_{1} - C_{2}}, \\  r_{2} : - \\frac{C_{2} a_{w}}{C_{1} - C_{2}}\\right\\}$"
      ],
      "text/plain": [
       "⎧   -(C₁ - C₂)       -C₁⋅a_w       -C₂⋅a_w ⎫\n",
       "⎨α: ───────────, r₁: ────────, r₂: ────────⎬\n",
       "⎩       a_w          C₁ - C₂       C₁ - C₂ ⎭"
      ]
     },
     "execution_count": 27,
     "metadata": {},
     "output_type": "execute_result"
    }
   ],
   "source": [
    "res = sp.solve([c1_expr - c1, c2_expr - c2, axle_width_expr - axle_width], alpha, r1, r2, dict=True)[0]\n",
    "res"
   ]
  },
  {
   "cell_type": "code",
   "execution_count": 28,
   "metadata": {},
   "outputs": [
    {
     "data": {
      "image/png": "[encoded data removed]",
      "text/latex": [
       "$\\displaystyle \\frac{a_{w} \\left(- C_{1} - C_{2}\\right)}{2 \\left(C_{1} - C_{2}\\right)}$"
      ],
      "text/plain": [
       "a_w⋅(-C₁ - C₂)\n",
       "──────────────\n",
       " 2⋅(C₁ - C₂)  "
      ]
     },
     "execution_count": 28,
     "metadata": {},
     "output_type": "execute_result"
    }
   ],
   "source": [
    "centre_radius = sp.simplify((res[r1] + res[r2]) / 2)\n",
    "centre_radius"
   ]
  },
  {
   "cell_type": "code",
   "execution_count": 29,
   "metadata": {},
   "outputs": [],
   "source": [
    "def angular_velocity(c1, c2, aw):\n",
    "    return (c2 - c1) / aw\n",
    "\n",
    "def centre_rad(c1, c2, aw):\n",
    "    return aw * (-c1 - c2) / (2*(c1 - c2))"
   ]
  },
  {
   "cell_type": "code",
   "execution_count": 30,
   "metadata": {},
   "outputs": [
    {
     "data": {
      "image/png": "[encoded data removed]",
      "text/latex": [
       "$\\displaystyle \\frac{\\pi}{200}$"
      ],
      "text/plain": [
       " π \n",
       "───\n",
       "200"
      ]
     },
     "execution_count": 30,
     "metadata": {},
     "output_type": "execute_result"
    }
   ],
   "source": [
    "angular_velocity(sp.pi, 2*sp.pi, 200)"
   ]
  },
  {
   "cell_type": "code",
   "execution_count": 31,
   "metadata": {},
   "outputs": [
    {
     "data": {
      "image/png": "[encoded data removed]",
      "text/latex": [
       "$\\displaystyle 100$"
      ],
      "text/plain": [
       "100"
      ]
     },
     "execution_count": 31,
     "metadata": {},
     "output_type": "execute_result"
    }
   ],
   "source": [
    "centre_rad(0*sp.pi, 6*sp.pi, 200)"
   ]
  },
  {
   "cell_type": "markdown",
   "metadata": {},
   "source": [
    "## Going back the other way to calculate theoretical speeds"
   ]
  },
  {
   "cell_type": "code",
   "execution_count": 36,
   "metadata": {},
   "outputs": [
    {
     "data": {
      "image/png": "[encoded data removed]",
      "text/latex": [
       "$\\displaystyle \\left\\{ C_{1} : - \\frac{a_{w} \\alpha}{2} + s, \\  C_{2} : \\frac{a_{w} \\alpha}{2} + s\\right\\}$"
      ],
      "text/plain": [
       "⎧      a_w⋅α          a_w⋅α    ⎫\n",
       "⎨C₁: - ───── + s, C₂: ───── + s⎬\n",
       "⎩        2              2      ⎭"
      ]
     },
     "execution_count": 36,
     "metadata": {},
     "output_type": "execute_result"
    }
   ],
   "source": [
    "sp.solve([res[alpha]-alpha, (c1+c2)/2-s], c1, c2)"
   ]
  },
  {
   "cell_type": "markdown",
   "metadata": {},
   "source": [
    "## Forwards, sideways positioning and new relative heading"
   ]
  },
  {
   "cell_type": "code",
   "execution_count": 21,
   "metadata": {},
   "outputs": [],
   "source": [
    "def predict(angular_velocity, centre_radius, tangential_speed, timestep):\n",
    "    angle_change = angular_velocity * timestep\n",
    "    if angle_change != 0:\n",
    "        # Going around a corner.\n",
    "        forwards = centre_radius * math.sin(angle_change)\n",
    "        sideways = centre_radius - centre_radius * math.cos(angle_change)\n",
    "    else:\n",
    "        # Going straight forwards or backwards.\n",
    "        forwards = tangential_speed * timestep\n",
    "        sideways = 0\n",
    "\n",
    "    return forwards, sideways, angle_change"
   ]
  },
  {
   "cell_type": "code",
   "execution_count": 22,
   "metadata": {},
   "outputs": [
    {
     "data": {
      "image/png": "[encoded data removed]",
      "text/latex": [
       "$\\displaystyle \\left( 0.0, \\  0.0, \\  12.5663706143592\\right)$"
      ],
      "text/plain": [
       "(-0.0, 0.0, 12.566370614359172)"
      ]
     },
     "execution_count": 22,
     "metadata": {},
     "output_type": "execute_result"
    }
   ],
   "source": [
    "predict(4*math.pi, 0, 0, 1)"
   ]
  },
  {
   "cell_type": "code",
   "execution_count": null,
   "metadata": {},
   "outputs": [],
   "source": []
  },
  {
   "cell_type": "code",
   "execution_count": null,
   "metadata": {},
   "outputs": [],
   "source": []
  }
 ],
 "metadata": {
  "kernelspec": {
   "display_name": "Python 3",
   "language": "python",
   "name": "python3"
  },
  "language_info": {
   "codemirror_mode": {
    "name": "ipython",
    "version": 3
   },
   "file_extension": ".py",
   "mimetype": "text/x-python",
   "name": "python",
   "nbconvert_exporter": "python",
   "pygments_lexer": "ipython3",
   "version": "3.11.2"
  }
 },
 "nbformat": 4,
 "nbformat_minor": 2
}
