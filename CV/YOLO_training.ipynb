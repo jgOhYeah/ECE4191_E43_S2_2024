{
 "cells": [
  {
   "cell_type": "markdown",
   "metadata": {},
   "source": [
    "# YOLO Pretrained model\n",
    "\n",
    "Resources used:\n",
    "\n",
    "- https://docs.ultralytics.com/modes/\n",
    "- https://docs.ultralytics.com/guides/raspberry-pi/\n",
    "- https://www.ultralytics.com/blog/training-custom-datasets-with-ultralytics-yolov8-in-google-colab"
   ]
  },
  {
   "cell_type": "markdown",
   "metadata": {},
   "source": [
    "Citations:\n",
    "\n",
    "[1] G. Jocher, A. Chaurasia, and J. Qiu, \"Ultralytics YOLOv8,\" version 8.0.0, 2023. [Online]. Available: https://github.com/ultralytics/ultralytics. [Accessed: 11/09/24]. DOI: 10.5281/zenodo.7847015."
   ]
  },
  {
   "cell_type": "markdown",
   "metadata": {},
   "source": [
    "### Notes\n",
    "- when using the model, consider having the image frame to be 640  640 (possible with pi camera, as res is 1920x1080, so a square chunk can be taken from the original frame) "
   ]
  },
  {
   "cell_type": "code",
   "execution_count": null,
   "metadata": {},
   "outputs": [],
   "source": [
    "# showing what GPU is being used\n",
    "! nvidia-smi "
   ]
  },
  {
   "cell_type": "code",
   "execution_count": null,
   "metadata": {},
   "outputs": [],
   "source": [
    "! pip install ultralytics"
   ]
  },
  {
   "cell_type": "markdown",
   "metadata": {},
   "source": [
    "### Installing YOLOv8"
   ]
  },
  {
   "cell_type": "code",
   "execution_count": 6,
   "metadata": {},
   "outputs": [
    {
     "name": "stdout",
     "output_type": "stream",
     "text": [
      "\u001b[2K\n",
      "\u001b[2K\n",
      "Ultralytics YOLOv8.2.91 🚀 Python-3.12.5 torch-2.4.1+cpu CPU (Intel Core(TM) i7-7700K 4.20GHz)\n",
      "Setup complete ✅ (8 CPUs, 24.0 GB RAM, 636.4/1900.7 GB disk)\n",
      "\n",
      "OS                  Windows-11-10.0.22631-SP0\n",
      "Environment         Windows\n",
      "Python              3.12.5\n",
      "Install             pip\n",
      "RAM                 23.96 GB\n",
      "CPU                 Intel Core(TM) i7-7700K 4.20GHz\n",
      "CUDA                None\n",
      "\n",
      "numpy               ✅ 1.26.4<2.0.0,>=1.23.0\n",
      "matplotlib          ✅ 3.9.2>=3.3.0\n",
      "opencv-python       ✅ 4.10.0.84>=4.6.0\n",
      "pillow              ✅ 10.4.0>=7.1.2\n",
      "pyyaml              ✅ 6.0.2>=5.3.1\n",
      "requests            ✅ 2.32.3>=2.23.0\n",
      "scipy               ✅ 1.14.1>=1.4.1\n",
      "torch               ✅ 2.4.1>=1.8.0\n",
      "torchvision         ✅ 0.19.1>=0.9.0\n",
      "tqdm                ✅ 4.66.5>=4.64.0\n",
      "psutil              ✅ 6.0.0\n",
      "py-cpuinfo          ✅ 9.0.0\n",
      "pandas              ✅ 2.2.2>=1.1.4\n",
      "seaborn             ✅ 0.13.2>=0.11.0\n",
      "ultralytics-thop    ✅ 2.0.6>=2.0.0\n",
      "torch               ✅ 2.4.1!=2.4.0,>=1.8.0; sys_platform == \"win32\"\n"
     ]
    }
   ],
   "source": [
    "# importing the goodies and checking to see if Ultralytics is installed correctly (particularly the yolo model)\n",
    "from ultralytics import YOLO\n",
    "import os \n",
    "from IPython.display import display, Image\n",
    "from IPython import display\n",
    "\n",
    "display.clear_output()\n",
    "!yolo checks\n"
   ]
  },
  {
   "cell_type": "markdown",
   "metadata": {},
   "source": []
  },
  {
   "cell_type": "markdown",
   "metadata": {},
   "source": [
    "## Importing the Dataset"
   ]
  },
  {
   "cell_type": "code",
   "execution_count": null,
   "metadata": {},
   "outputs": [],
   "source": [
    "from google.colab import drive\n",
    "drive.mount('content/drive')\n",
    "# copying the images from the google drive to colab directory.\n",
    "!cp -r /content/gdrive/MyDrive/CV/images/ /content/images/"
   ]
  },
  {
   "cell_type": "markdown",
   "metadata": {},
   "source": [
    "## Training the YOLOv8 model on Custom Dataset"
   ]
  },
  {
   "cell_type": "code",
   "execution_count": null,
   "metadata": {},
   "outputs": [],
   "source": [
    "## AUD - training without google drive set up yet\n",
    "\n",
    "# import os\n",
    "# HOME = os.getcwd()\n",
    "# print(HOME)\n",
    "\n",
    "# !mkdir {HOME}/datasets\n",
    "# %cd {HOME}/datasets\n",
    "\n",
    "# !pip install roboflow --quiet\n",
    "\n",
    "# from roboflow import Roboflow\n",
    "# rf = Roboflow(api_key=\"TQB1zC0LDnnZcl02haRg\")\n",
    "# project = rf.workspace(\"tennis-p8vja\").project(\"secret-project-jqka6\")\n",
    "# version = project.version(4)\n",
    "# dataset = version.download(\"yolov8\")\n",
    "\n",
    "# %cd {HOME}\n",
    "\n",
    "# !yolo task=detect mode=train model=yolov8n.pt data={dataset.location}/data.yaml batch=12 epochs=50 imgsz=320 plots=True"
   ]
  },
  {
   "cell_type": "code",
   "execution_count": null,
   "metadata": {},
   "outputs": [],
   "source": [
    "# loading a model\n",
    "# if prev model exists\n",
    "    # load model\n",
    "model = YOLO(\"yolov8n.pt\")"
   ]
  },
  {
   "cell_type": "code",
   "execution_count": null,
   "metadata": {},
   "outputs": [],
   "source": [
    "load_ext tensorboard\n",
    "tensorboard --logdir content/runs  # replace with 'runs' directory"
   ]
  },
  {
   "cell_type": "code",
   "execution_count": null,
   "metadata": {},
   "outputs": [],
   "source": [
    "# training a model \n",
    "epoch = 50\n",
    "trained_model = model.train(data=\"content/images/data.yaml\", epoch = epoch,imgsz = 640) \n"
   ]
  }
 ],
 "metadata": {
  "kernelspec": {
   "display_name": "CV",
   "language": "python",
   "name": "python3"
  },
  "language_info": {
   "codemirror_mode": {
    "name": "ipython",
    "version": 3
   },
   "file_extension": ".py",
   "mimetype": "text/x-python",
   "name": "python",
   "nbconvert_exporter": "python",
   "pygments_lexer": "ipython3",
   "version": "3.12.5"
  }
 },
 "nbformat": 4,
 "nbformat_minor": 2
}
